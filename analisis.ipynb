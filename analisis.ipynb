{
 "cells": [
  {
   "cell_type": "markdown",
   "id": "0cd9b663",
   "metadata": {},
   "source": [
    "# Analisis Exploratorio"
   ]
  },
  {
   "cell_type": "code",
   "execution_count": 15,
   "id": "2c939187",
   "metadata": {},
   "outputs": [],
   "source": [
    "import numpy as np\n",
    "import pandas as pd\n",
    "import matplotlib.pyplot as plt\n",
    "import seaborn as sns\n",
    "\n",
    "\n",
    "df = pd.read_csv('vehiculos_train.csv')"
   ]
  },
  {
   "cell_type": "code",
   "execution_count": 16,
   "id": "b59ebfa4",
   "metadata": {},
   "outputs": [
    {
     "data": {
      "text/html": [
       "<div>\n",
       "<style scoped>\n",
       "    .dataframe tbody tr th:only-of-type {\n",
       "        vertical-align: middle;\n",
       "    }\n",
       "\n",
       "    .dataframe tbody tr th {\n",
       "        vertical-align: top;\n",
       "    }\n",
       "\n",
       "    .dataframe thead th {\n",
       "        text-align: right;\n",
       "    }\n",
       "</style>\n",
       "<table border=\"1\" class=\"dataframe\">\n",
       "  <thead>\n",
       "    <tr style=\"text-align: right;\">\n",
       "      <th></th>\n",
       "      <th>marca</th>\n",
       "      <th>modelo</th>\n",
       "      <th>color</th>\n",
       "      <th>anio_registro</th>\n",
       "      <th>tipo_vehiculo</th>\n",
       "      <th>millas_recorridas</th>\n",
       "      <th>tamanio_motor</th>\n",
       "      <th>transmision</th>\n",
       "      <th>tipo_combustible</th>\n",
       "      <th>precio_vehiculo</th>\n",
       "      <th>num_asientos</th>\n",
       "      <th>num_puertas</th>\n",
       "      <th>problema_averia</th>\n",
       "      <th>id_problema_averia</th>\n",
       "      <th>fecha_averia</th>\n",
       "      <th>complejidad_reparacion</th>\n",
       "      <th>costo_reparacion</th>\n",
       "      <th>horas_reparacion</th>\n",
       "      <th>fecha_reparacion</th>\n",
       "      <th>fraude</th>\n",
       "    </tr>\n",
       "  </thead>\n",
       "  <tbody>\n",
       "    <tr>\n",
       "      <th>0</th>\n",
       "      <td>Jeep</td>\n",
       "      <td>Renegade</td>\n",
       "      <td>Black</td>\n",
       "      <td>2018.0</td>\n",
       "      <td>SUV</td>\n",
       "      <td>17.0</td>\n",
       "      <td>1.4L</td>\n",
       "      <td>Manual</td>\n",
       "      <td>Petrol</td>\n",
       "      <td>16000.0</td>\n",
       "      <td>5.0</td>\n",
       "      <td>5.0</td>\n",
       "      <td>Electrical Issue</td>\n",
       "      <td>5</td>\n",
       "      <td>2018-06-07</td>\n",
       "      <td>1</td>\n",
       "      <td>76.0000</td>\n",
       "      <td>3.0</td>\n",
       "      <td>2018-06-07</td>\n",
       "      <td>0</td>\n",
       "    </tr>\n",
       "    <tr>\n",
       "      <th>1</th>\n",
       "      <td>Vauxhall</td>\n",
       "      <td>Insignia</td>\n",
       "      <td>Grey</td>\n",
       "      <td>2011.0</td>\n",
       "      <td>Hatchback</td>\n",
       "      <td>93000.0</td>\n",
       "      <td>NaN</td>\n",
       "      <td>Manual</td>\n",
       "      <td>Petrol</td>\n",
       "      <td>3995.0</td>\n",
       "      <td>5.0</td>\n",
       "      <td>5.0</td>\n",
       "      <td>Excessive Emissions</td>\n",
       "      <td>0</td>\n",
       "      <td>2018-08-09</td>\n",
       "      <td>1</td>\n",
       "      <td>23.5955</td>\n",
       "      <td>1.0</td>\n",
       "      <td>2018-08-09</td>\n",
       "      <td>0</td>\n",
       "    </tr>\n",
       "    <tr>\n",
       "      <th>2</th>\n",
       "      <td>Mercedes-Benz</td>\n",
       "      <td>GLC Class</td>\n",
       "      <td>White</td>\n",
       "      <td>2019.0</td>\n",
       "      <td>SUV</td>\n",
       "      <td>6879.0</td>\n",
       "      <td>2.0L</td>\n",
       "      <td>Automatic</td>\n",
       "      <td>Diesel</td>\n",
       "      <td>31498.0</td>\n",
       "      <td>5.0</td>\n",
       "      <td>5.0</td>\n",
       "      <td>Windscreen Crack</td>\n",
       "      <td>0</td>\n",
       "      <td>2021-06-17</td>\n",
       "      <td>1</td>\n",
       "      <td>38.8988</td>\n",
       "      <td>1.0</td>\n",
       "      <td>2021-06-17</td>\n",
       "      <td>0</td>\n",
       "    </tr>\n",
       "    <tr>\n",
       "      <th>3</th>\n",
       "      <td>Renault</td>\n",
       "      <td>NaN</td>\n",
       "      <td>NaN</td>\n",
       "      <td>2014.0</td>\n",
       "      <td>Hatchback</td>\n",
       "      <td>20669.0</td>\n",
       "      <td>1.2L</td>\n",
       "      <td>Manual</td>\n",
       "      <td>Petrol</td>\n",
       "      <td>6950.0</td>\n",
       "      <td>5.0</td>\n",
       "      <td>5.0</td>\n",
       "      <td>Brake Pads Worn</td>\n",
       "      <td>0</td>\n",
       "      <td>2018-04-23</td>\n",
       "      <td>1</td>\n",
       "      <td>43.4750</td>\n",
       "      <td>2.0</td>\n",
       "      <td>2018-04-23</td>\n",
       "      <td>0</td>\n",
       "    </tr>\n",
       "    <tr>\n",
       "      <th>4</th>\n",
       "      <td>Ford</td>\n",
       "      <td>C-Max</td>\n",
       "      <td>NaN</td>\n",
       "      <td>2007.0</td>\n",
       "      <td>MPV</td>\n",
       "      <td>84786.0</td>\n",
       "      <td>1.6L</td>\n",
       "      <td>Manual</td>\n",
       "      <td>Petrol</td>\n",
       "      <td>NaN</td>\n",
       "      <td>5.0</td>\n",
       "      <td>5.0</td>\n",
       "      <td>Tyre Alignment</td>\n",
       "      <td>0</td>\n",
       "      <td>2018-05-20</td>\n",
       "      <td>1</td>\n",
       "      <td>10.2600</td>\n",
       "      <td>0.5</td>\n",
       "      <td>2018-05-20</td>\n",
       "      <td>0</td>\n",
       "    </tr>\n",
       "  </tbody>\n",
       "</table>\n",
       "</div>"
      ],
      "text/plain": [
       "           marca     modelo  color  anio_registro tipo_vehiculo  \\\n",
       "0           Jeep   Renegade  Black         2018.0           SUV   \n",
       "1       Vauxhall   Insignia   Grey         2011.0     Hatchback   \n",
       "2  Mercedes-Benz  GLC Class  White         2019.0           SUV   \n",
       "3        Renault        NaN    NaN         2014.0     Hatchback   \n",
       "4           Ford      C-Max    NaN         2007.0           MPV   \n",
       "\n",
       "   millas_recorridas tamanio_motor transmision tipo_combustible  \\\n",
       "0               17.0          1.4L      Manual           Petrol   \n",
       "1            93000.0           NaN      Manual           Petrol   \n",
       "2             6879.0          2.0L   Automatic           Diesel   \n",
       "3            20669.0          1.2L      Manual           Petrol   \n",
       "4            84786.0          1.6L      Manual           Petrol   \n",
       "\n",
       "   precio_vehiculo  num_asientos  num_puertas      problema_averia  \\\n",
       "0          16000.0           5.0          5.0     Electrical Issue   \n",
       "1           3995.0           5.0          5.0  Excessive Emissions   \n",
       "2          31498.0           5.0          5.0     Windscreen Crack   \n",
       "3           6950.0           5.0          5.0      Brake Pads Worn   \n",
       "4              NaN           5.0          5.0       Tyre Alignment   \n",
       "\n",
       "   id_problema_averia fecha_averia  complejidad_reparacion  costo_reparacion  \\\n",
       "0                   5   2018-06-07                       1           76.0000   \n",
       "1                   0   2018-08-09                       1           23.5955   \n",
       "2                   0   2021-06-17                       1           38.8988   \n",
       "3                   0   2018-04-23                       1           43.4750   \n",
       "4                   0   2018-05-20                       1           10.2600   \n",
       "\n",
       "   horas_reparacion fecha_reparacion  fraude  \n",
       "0               3.0       2018-06-07       0  \n",
       "1               1.0       2018-08-09       0  \n",
       "2               1.0       2021-06-17       0  \n",
       "3               2.0       2018-04-23       0  \n",
       "4               0.5       2018-05-20       0  "
      ]
     },
     "execution_count": 16,
     "metadata": {},
     "output_type": "execute_result"
    }
   ],
   "source": [
    "df.head()"
   ]
  },
  {
   "cell_type": "markdown",
   "id": "57fe5db7",
   "metadata": {},
   "source": [
    "# Tarea 2"
   ]
  },
  {
   "cell_type": "code",
   "execution_count": 20,
   "id": "c30a5d0c",
   "metadata": {},
   "outputs": [
    {
     "data": {
      "text/plain": [
       "<Axes: xlabel='transmision'>"
      ]
     },
     "execution_count": 20,
     "metadata": {},
     "output_type": "execute_result"
    },
    {
     "data": {
      "image/png": "[encoded data removed]",
      "text/plain": [
       "<Figure size 640x480 with 1 Axes>"
      ]
     },
     "metadata": {},
     "output_type": "display_data"
    }
   ],
   "source": [
    "sns.boxplot(x='transmision', hue='fraude', data=df)"
   ]
  },
  {
   "cell_type": "code",
   "execution_count": 21,
   "id": "5f8c10f8",
   "metadata": {},
   "outputs": [
    {
     "data": {
      "text/plain": [
       "<Axes: xlabel='costo_reparacion'>"
      ]
     },
     "execution_count": 21,
     "metadata": {},
     "output_type": "execute_result"
    },
    {
     "data": {
      "image/png": "[encoded data removed]",
      "text/plain": [
       "<Figure size 640x480 with 1 Axes>"
      ]
     },
     "metadata": {},
     "output_type": "display_data"
    }
   ],
   "source": [
    "sns.boxplot(x='costo_reparacion', hue='fraude', data=df)"
   ]
  },
  {
   "cell_type": "code",
   "execution_count": 24,
   "id": "a2600ee6",
   "metadata": {},
   "outputs": [
    {
     "data": {
      "text/plain": [
       "<Axes: xlabel='costo_reparacion', ylabel='Count'>"
      ]
     },
     "execution_count": 24,
     "metadata": {},
     "output_type": "execute_result"
    },
    {
     "data": {
      "image/png": "[encoded data removed]",
      "text/plain": [
       "<Figure size 640x480 with 1 Axes>"
      ]
     },
     "metadata": {},
     "output_type": "display_data"
    }
   ],
   "source": [
    "sns.histplot(data=df, x='costo_reparacion', kde=True, bins=30)"
   ]
  }
 ],
 "metadata": {
  "kernelspec": {
   "display_name": "Python 3",
   "language": "python",
   "name": "python3"
  },
  "language_info": {
   "codemirror_mode": {
    "name": "ipython",
    "version": 3
   },
   "file_extension": ".py",
   "mimetype": "text/x-python",
   "name": "python",
   "nbconvert_exporter": "python",
   "pygments_lexer": "ipython3",
   "version": "3.13.7"
  }
 },
 "nbformat": 4,
 "nbformat_minor": 5
}
